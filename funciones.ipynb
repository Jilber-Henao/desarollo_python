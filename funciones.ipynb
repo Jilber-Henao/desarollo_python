{
 "cells": [
  {
   "cell_type": "markdown",
   "id": "80d90fee",
   "metadata": {},
   "source": [
    "# Funciones en python\n"
   ]
  },
  {
   "cell_type": "markdown",
   "id": "c39a8562",
   "metadata": {},
   "source": [
    "##### Las funciones son bloques de codigos reutilizables que realizan un atarea especifica. Permiten organizar el codigo. Evitar representaciones y hacerlo mas legible"
   ]
  },
  {
   "cell_type": "markdown",
   "id": "e07247c8",
   "metadata": {},
   "source": [
    "# Definicion de funcion\n"
   ]
  },
  {
   "cell_type": "markdown",
   "id": "9011f175",
   "metadata": {},
   "source": [
    "##### Se utiliza la palabra clave `def` para defimir una funcion:"
   ]
  },
  {
   "cell_type": "code",
   "execution_count": 4,
   "id": "8e8b5ed3",
   "metadata": {},
   "outputs": [
    {
     "name": "stdout",
     "output_type": "stream",
     "text": [
      "¡hola, jilber!\n"
     ]
    }
   ],
   "source": [
    "def saludar():\n",
    "    print(\"¡hola, jilber!\")\n",
    "\n",
    "# Llamar a la funcion\n",
    "saludar ()"
   ]
  },
  {
   "cell_type": "markdown",
   "id": "72c53901",
   "metadata": {},
   "source": [
    "# Funciones con parametros"
   ]
  },
  {
   "cell_type": "markdown",
   "id": "4c6f9081",
   "metadata": {},
   "source": [
    "##### Puedes pasar valores a una funcion usando parametros:"
   ]
  },
  {
   "cell_type": "code",
   "execution_count": 14,
   "id": "db7f3c4c",
   "metadata": {},
   "outputs": [
    {
     "name": "stdout",
     "output_type": "stream",
     "text": [
      "¡hola , ana! Tienes 15 años y vives en Santa Rita españa.\n",
      "¡hola , carlos! Tienes 17 años y vives en El Coral colombia.\n",
      "¡hola , jilber! Tienes 16 años y vives en El Coral españa.\n"
     ]
    }
   ],
   "source": [
    "def saludar_persona(nombre, edad, direccion, pais=\"españa\"):\n",
    "    print(f\"¡hola , {nombre}! Tienes {edad} años y vives en {direccion} {pais}.\")\n",
    "\n",
    "saludar_persona(\"ana\",15,\"Santa Rita\")\n",
    "saludar_persona(\"carlos\",17,\"El Coral\",\"colombia\")\n",
    "saludar_persona(\"jilber\",16,\"El Coral\")"
   ]
  },
  {
   "cell_type": "markdown",
   "id": "3797889d",
   "metadata": {},
   "source": [
    "# Funcion que salude a un jugador de futbol"
   ]
  },
  {
   "cell_type": "markdown",
   "id": "67ba50b5",
   "metadata": {},
   "source": [
    "##### nombre, numero camisa, nombre del equipo, años"
   ]
  },
  {
   "cell_type": "code",
   "execution_count": null,
   "id": "0fa97b2a",
   "metadata": {},
   "outputs": [
    {
     "name": "stdout",
     "output_type": "stream",
     "text": [
      "hola,modric usas el dorsal 10 juegas en el AC milan tiene 39 años y eres del real madrid.\n",
      "hola,Cristiano usas el dorsal 7 juegas en el al-nasar tiene 40 años y eres del real madrid.\n",
      "hola,ronaldinho usas el dorsal 10 juegas en el flamengo tiene 45 años y eres del real madrid.\n"
     ]
    }
   ],
   "source": [
    "def saludar_jugador(nombre,numerocamisa,nombre_de_equipo,años,equipo=\"real madrid\"):\n",
    "    print(f\"hola,{nombre} usas el dorsal {numerocamisa} juegas en el {nombre_de_equipo} tiene {años} años y eres del {equipo}.\") \n",
    "\n",
    "saludar_jugador(\"modric\",10,\"AC milan\", \"39\")\n",
    "saludar_jugador(\"Cristiano\",7,\"al-nasar\", \"40\")\n",
    "saludar_jugador(\"ronaldinho\",10,\"flamengo\", \"45\")\n"
   ]
  },
  {
   "cell_type": "markdown",
   "id": "80613a1c",
   "metadata": {},
   "source": [
    "# Las funciones que retornan valores"
   ]
  },
  {
   "cell_type": "markdown",
   "id": "98f02f1f",
   "metadata": {},
   "source": [
    "##### Las funciones pueden devolver valores usando la palabra clave `return`"
   ]
  },
  {
   "cell_type": "code",
   "execution_count": null,
   "id": "fd4b74b8",
   "metadata": {},
   "outputs": [
    {
     "name": "stdout",
     "output_type": "stream",
     "text": [
      "la suma es: 8\n"
     ]
    }
   ],
   "source": [
    "def sumar(a, b):\n",
    "    return a + b\n",
    "\n",
    "resultado = sumar(3, 5)\n",
    "print(\"la suma es:\", resultado)"
   ]
  },
  {
   "cell_type": "markdown",
   "id": "290e2f86",
   "metadata": {},
   "source": [
    "# Funcion que multiplique 4 parametros"
   ]
  },
  {
   "cell_type": "code",
   "execution_count": 37,
   "id": "2402cc24",
   "metadata": {},
   "outputs": [
    {
     "name": "stdout",
     "output_type": "stream",
     "text": [
      "la multiplicacion es: 3360\n"
     ]
    }
   ],
   "source": [
    "def multiplicar(a, b, c, d, e=8):\n",
    "    return a * b * c * d * e\n",
    "\n",
    "resultado = multiplicar(3, 5, 4, 7)\n",
    "print(\"la multiplicacion es:\", resultado)"
   ]
  },
  {
   "cell_type": "markdown",
   "id": "800d24cf",
   "metadata": {},
   "source": [
    "# Sacar la potencia del numerom al que se le mande"
   ]
  },
  {
   "cell_type": "code",
   "execution_count": 45,
   "id": "33c9308e",
   "metadata": {},
   "outputs": [
    {
     "name": "stdout",
     "output_type": "stream",
     "text": [
      "la potencia es: 81\n"
     ]
    }
   ],
   "source": [
    "def potencia (a):\n",
    "    return a**2\n",
    "\n",
    "resultado = potencia(9)\n",
    "print(\"la potencia es:\", resultado)"
   ]
  },
  {
   "cell_type": "markdown",
   "id": "639028a4",
   "metadata": {},
   "source": [
    "# Funcion que calcule el area de un circulo"
   ]
  },
  {
   "cell_type": "code",
   "execution_count": 53,
   "id": "01b33f57",
   "metadata": {},
   "outputs": [
    {
     "name": "stdout",
     "output_type": "stream",
     "text": [
      "el area es: 28.26\n"
     ]
    }
   ],
   "source": [
    "def area (r):\n",
    "    pi=3.14\n",
    "    return r**2 * pi\n",
    "\n",
    "resultado = area(3)\n",
    "print(\"el area es:\", resultado)"
   ]
  },
  {
   "cell_type": "markdown",
   "id": "abdacce7",
   "metadata": {},
   "source": [
    "# Funcion que determine si un numero es par o impar"
   ]
  },
  {
   "cell_type": "code",
   "execution_count": 65,
   "id": "18b290c6",
   "metadata": {},
   "outputs": [
    {
     "name": "stdout",
     "output_type": "stream",
     "text": [
      "Impar\n"
     ]
    }
   ],
   "source": [
    "def es_par_o_impar(numero):\n",
    " \n",
    "  if numero % 2 == 0:\n",
    "    return \"Par\"\n",
    "  else:\n",
    "    return \"Impar\"\n",
    "\n",
    "\n",
    "print(es_par_o_impar(7))  "
   ]
  },
  {
   "cell_type": "markdown",
   "id": "4168b124",
   "metadata": {},
   "source": [
    "# Funcion que reciba una lista de numeros y devuelva la suma de sus elemntos "
   ]
  },
  {
   "cell_type": "code",
   "execution_count": 1,
   "id": "feeb2e09",
   "metadata": {},
   "outputs": [
    {
     "name": "stdout",
     "output_type": "stream",
     "text": [
      "la suma da 45\n"
     ]
    }
   ],
   "source": [
    "def suma(numeros):\n",
    " \n",
    "  suma = 0\n",
    "  for numero in numeros:\n",
    "    suma += numero\n",
    "  return suma\n",
    "\n",
    "\n",
    "numeros = [1, 2, 3, 4, 5, 6, 7, 8, 9]\n",
    "resultado = suma(numeros)\n",
    "print(f\"la suma da {resultado}\")"
   ]
  },
  {
   "cell_type": "markdown",
   "id": "60242964",
   "metadata": {},
   "source": [
    "# Clases y objetos en python"
   ]
  },
  {
   "cell_type": "markdown",
   "id": "ceaba996",
   "metadata": {},
   "source": [
    "##### La programacion oriental a objetos (poo) es una paradigma que permite organiza el cidigo en torno a \"objetos\" que son instancias de \"clases\". Una clase es como un modelo o plantilla, y un objeto es instancia concreta de esa clase"
   ]
  },
  {
   "cell_type": "markdown",
   "id": "b121c99c",
   "metadata": {},
   "source": [
    "# ¿Por que usar clases y objetos?"
   ]
  },
  {
   "cell_type": "markdown",
   "id": "bd070bec",
   "metadata": {},
   "source": [
    "##### \n",
    "* Permite organizar el codigo de forma modular y reutilizable\n",
    "* Falicita la representacion de entidades del mundo real\n",
    "* Permite encapular datos y comportamientos"
   ]
  },
  {
   "cell_type": "markdown",
   "id": "4f7eb8aa",
   "metadata": {},
   "source": [
    "# Definicion de una clase basica"
   ]
  },
  {
   "cell_type": "markdown",
   "id": "426b726f",
   "metadata": {},
   "source": [
    "##### Se utiliza la palabra clave para definir una clase. El metodo especial _int_ es el contructor, que se ejecuta al crear un objeto"
   ]
  },
  {
   "cell_type": "code",
   "execution_count": 14,
   "id": "14c25afe",
   "metadata": {},
   "outputs": [
    {
     "name": "stdout",
     "output_type": "stream",
     "text": [
      "hola, mi nombre es ana tengo 30 y soy Española\n",
      "hola, mi nombre es luis tengo 25 y soy Mexicano\n"
     ]
    }
   ],
   "source": [
    "class Persona:\n",
    "    def __init__(self, nombre, edad, nacionalidad):\n",
    "        self.nombre = nombre\n",
    "        self.edad = edad\n",
    "        self.nacionalidad= nacionalidad\n",
    "\n",
    "    def saludar(self):\n",
    "        print(f\"hola, mi nombre es {self.nombre} tengo {self.edad} y soy {self.nacionalidad}\")\n",
    "\n",
    "persona1 = Persona(\"ana\", 30, \"Española\")\n",
    "persona2 = Persona(\"luis\",25, \"Mexicano\")\n",
    "persona1.saludar()\n",
    "persona2.saludar()"
   ]
  },
  {
   "cell_type": "markdown",
   "id": "83eb03b2",
   "metadata": {},
   "source": [
    "# Atributos y metodos"
   ]
  },
  {
   "cell_type": "code",
   "execution_count": 37,
   "id": "50b3e739",
   "metadata": {},
   "outputs": [
    {
     "name": "stdout",
     "output_type": "stream",
     "text": [
      "El coche toyota d-max rojo con puetas alas de gaviota esta encendido\n",
      "El coche toyota d-max rojo con puertas alas de gaviota esta apagado\n",
      "El coche d-max esta apagando faros\n"
     ]
    }
   ],
   "source": [
    "class Coche:\n",
    "    def __init__(self, marca, modelo, color, puerta):\n",
    "        self.marca = marca\n",
    "        self.modelo = modelo\n",
    "        self.color = color\n",
    "        self.pueta = puerta\n",
    "        self.encendido = False\n",
    "        self.faros = False\n",
    "\n",
    "    def encender(self):\n",
    "        self.encendido = True\n",
    "        print(f\"El coche {self.marca} {self.modelo} {self.color} con puetas {self.pueta} esta encendido\")\n",
    "    \n",
    "    def apagar(self):\n",
    "        self.encendido = False\n",
    "        print(f\"El coche {self.marca} {self.modelo} {self.color} con puertas {self.pueta} esta apagado\")\n",
    "\n",
    "    def prender_faros(self):\n",
    "        self.faros = True\n",
    "        print(f\"El coche {self.modelo} esta encendiendo faros\")\n",
    "\n",
    "    def prender_faros(self):\n",
    "        self.faros = False\n",
    "        print(f\"El coche {self.modelo} esta apagando faros\")\n",
    "\n",
    "mi_Coche = Coche(\"toyota\", \"d-max\", \"rojo\", \"alas de gaviota\")   \n",
    "mi_Coche.encender()\n",
    "mi_Coche.apagar()\n",
    "mi_Coche.prender_faros()\n"
   ]
  },
  {
   "cell_type": "markdown",
   "id": "7a3fb2c3",
   "metadata": {},
   "source": [
    "# Tarea"
   ]
  },
  {
   "cell_type": "markdown",
   "id": "5e67b17a",
   "metadata": {},
   "source": [
    "##### ejemplos de encalupsamiento en pythin\n"
   ]
  },
  {
   "cell_type": "markdown",
   "id": "b7602436",
   "metadata": {},
   "source": [
    "# encapsulamiento\n"
   ]
  },
  {
   "cell_type": "markdown",
   "id": "503c2ef9",
   "metadata": {},
   "source": [
    "### En Python, el encapsulamiento (o encapsulation en inglés) es un principio de la programación orientada a objetos (POO) que consiste en ocultar los detalles internos de un objeto y exponer solo lo necesario para su uso externo. Es decir, protege los datos del acceso directo y permite interactuar con ellos solo a través de métodos."
   ]
  },
  {
   "cell_type": "markdown",
   "id": "57d34bec",
   "metadata": {},
   "source": [
    "# ejemplos\n"
   ]
  },
  {
   "cell_type": "code",
   "execution_count": null,
   "id": "bd29043f",
   "metadata": {},
   "outputs": [
    {
     "name": "stdout",
     "output_type": "stream",
     "text": [
      "Nombre: Ana, Edad: 30\n",
      "Nombre: Ana, Edad: 31\n"
     ]
    }
   ],
   "source": [
    "class Persona:\n",
    "    def __init__(self, nombre, edad):\n",
    "        self.__nombre = nombre  \n",
    "        self.__edad = edad      \n",
    "\n",
    "    def mostrar_info(self):\n",
    "        print(f\"Nombre: {self.__nombre}, Edad: {self.__edad}\")\n",
    "\n",
    "    def cumplir_años(self):\n",
    "        self.__edad += 1\n",
    "\n",
    "p1 = Persona(\"Ana\", 30)\n",
    "p1.mostrar_info()\n",
    "p1.cumplir_años()\n",
    "p1.mostrar_info()\n",
    "\n"
   ]
  },
  {
   "cell_type": "code",
   "execution_count": 5,
   "id": "a3313d12",
   "metadata": {},
   "outputs": [
    {
     "name": "stdout",
     "output_type": "stream",
     "text": [
      "Saldo: 1000\n",
      "Saldo final: 1300\n"
     ]
    }
   ],
   "source": [
    "class CuentaBancaria:\n",
    "    def __init__(self, saldo_inicial):\n",
    "        self.__saldo = saldo_inicial  \n",
    "\n",
    "    def depositar(self, monto):\n",
    "        if monto > 0:\n",
    "            self.__saldo += monto\n",
    "\n",
    "    def retirar(self, monto):\n",
    "        if 0 < monto <= self.__saldo:\n",
    "            self.__saldo -= monto\n",
    "\n",
    "    def obtener_saldo(self):\n",
    "        return self.__saldo\n",
    "    \n",
    "cuenta = CuentaBancaria(1000)\n",
    "print(\"Saldo:\", cuenta.obtener_saldo())\n",
    "cuenta.depositar(500)\n",
    "cuenta.retirar(200)\n",
    "print(\"Saldo final:\", cuenta.obtener_saldo())\n"
   ]
  },
  {
   "cell_type": "markdown",
   "id": "b3246ecd",
   "metadata": {},
   "source": [
    "## ejemplo solución"
   ]
  },
  {
   "cell_type": "code",
   "execution_count": 34,
   "id": "88df7b8e",
   "metadata": {},
   "outputs": [
    {
     "name": "stdout",
     "output_type": "stream",
     "text": [
      "Nombre: Gastly , Nivel: 10, Tipo: Veneno, Vida: 100\n",
      "Nombre: Gastly2 , Nivel: 8, Tipo: Veneno, Vida: 100\n",
      "El nivel debe ser mayor que 0.\n",
      "Nombre: Carlos, Nivel: 10, Tipo: Veneno, Vida: 100\n"
     ]
    }
   ],
   "source": [
    "class Gastly:\n",
    "\n",
    "    __tipo = \"Veneno\"\n",
    "    def __init__(self, nombre, nivel,vida,ataque,defensa,velocidad):\n",
    "        self.__nombre = nombre\n",
    "        self.__nivel = nivel\n",
    "        self.__vida = vida\n",
    "        self.__ataque = ataque\n",
    "        self.__defensa = defensa\n",
    "        self.__velocidad = velocidad\n",
    "\n",
    "\n",
    "    @property\n",
    "    def nombre(self):\n",
    "        return self.__nombre\n",
    "\n",
    "\n",
    "    @nombre.setter\n",
    "    def nombre(self, nuevo_nombre):\n",
    "        self.__nombre = nuevo_nombre\n",
    "\n",
    "    @property\n",
    "    def nivel(self):\n",
    "        return self.__nivel\n",
    "\n",
    "    @nivel.setter\n",
    "    def nivel(self, nuevo_nivel):\n",
    "        if nuevo_nivel > 0:\n",
    "            self.__nivel = nuevo_nivel\n",
    "        else:\n",
    "            print(\"El nivel debe ser mayor que 0.\")\n",
    "\n",
    "\n",
    "    def mostrar_estado(self):\n",
    "        print(f\"Nombre: {self.__nombre}, Nivel: {self.__nivel}, Tipo: {self.__tipo}, Vida: {self.__vida}\")\n",
    "\n",
    "Gastly1 = Gastly(\"Gastly \", 10,100,55,45,95)\n",
    "Gastly2 = Gastly(\"Gastly2 \", 8,100,40,37,80)\n",
    "\n",
    "Gastly1.mostrar_estado()\n",
    "Gastly2.mostrar_estado()\n",
    "\n",
    "Gastly1.nombre = \"Carlos\"\n",
    "\n",
    "Gastly1.nivel = -500\n",
    "Gastly1.mostrar_estado()"
   ]
  }
 ],
 "metadata": {
  "kernelspec": {
   "display_name": "Python 3",
   "language": "python",
   "name": "python3"
  },
  "language_info": {
   "codemirror_mode": {
    "name": "ipython",
    "version": 3
   },
   "file_extension": ".py",
   "mimetype": "text/x-python",
   "name": "python",
   "nbconvert_exporter": "python",
   "pygments_lexer": "ipython3",
   "version": "3.13.3"
  }
 },
 "nbformat": 4,
 "nbformat_minor": 5
}
