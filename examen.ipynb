{
 "cells": [
  {
   "cell_type": "markdown",
   "id": "c910b583",
   "metadata": {},
   "source": [
    "# condicionales\n"
   ]
  },
  {
   "cell_type": "markdown",
   "id": "ab582c06",
   "metadata": {},
   "source": [
    "## 1 un programa que diga es un numero es positivo o negativo"
   ]
  },
  {
   "cell_type": "code",
   "execution_count": 4,
   "id": "0e169c43",
   "metadata": {},
   "outputs": [
    {
     "name": "stdout",
     "output_type": "stream",
     "text": [
      "El número es cero.\n"
     ]
    }
   ],
   "source": [
    "def analizar_numero():\n",
    "   \n",
    "    try:\n",
    "        numero = float(input(\"Ingrese un número: \"))\n",
    "\n",
    "        if numero > 0:\n",
    "            print(\"El número es positivo.\")\n",
    "        elif numero < 0:\n",
    "            print(\"El número es negativo.\")\n",
    "        else:\n",
    "            print(\"El número es cero.\")\n",
    "    except ValueError:\n",
    "        print(\"Por favor, ingrese un valor numérico válido.\")\n",
    "\n",
    "analizar_numero()"
   ]
  },
  {
   "cell_type": "markdown",
   "id": "e11a6b29",
   "metadata": {},
   "source": [
    "## 2 pide al usurio 2 numeros y muestra cual es el mayor a otro"
   ]
  },
  {
   "cell_type": "code",
   "execution_count": 109,
   "id": "6586c341",
   "metadata": {},
   "outputs": [
    {
     "name": "stdout",
     "output_type": "stream",
     "text": [
      "Los números son iguales.\n"
     ]
    }
   ],
   "source": [
    "def analizar_numero():\n",
    "\n",
    "    numero1 = float(input(\"ingrese un numero \"))\n",
    "    numero2 = float(input(\"ingrese el numero\"))\n",
    "\n",
    "    if numero1 > numero2:\n",
    "        print(\"es mayor es el:\",numero1)\n",
    "\n",
    "    elif numero2 > numero1:\n",
    "        print(\"el mayor es el:\", numero2)\n",
    "\n",
    "    else:\n",
    "        print(\"Los números son iguales.\")\n",
    "\n",
    "analizar_numero()"
   ]
  },
  {
   "cell_type": "markdown",
   "id": "5802b469",
   "metadata": {},
   "source": [
    "# while"
   ]
  },
  {
   "cell_type": "markdown",
   "id": "9d3e0a66",
   "metadata": {},
   "source": [
    "## 1 escribe un programa que sume los numeros del 1 al 100"
   ]
  },
  {
   "cell_type": "code",
   "execution_count": 63,
   "id": "5e92f70c",
   "metadata": {},
   "outputs": [
    {
     "name": "stdout",
     "output_type": "stream",
     "text": [
      "1\n",
      "3\n",
      "6\n",
      "10\n",
      "15\n",
      "21\n",
      "28\n",
      "36\n",
      "45\n",
      "55\n",
      "66\n",
      "78\n",
      "91\n",
      "105\n",
      "120\n",
      "136\n",
      "153\n",
      "171\n",
      "190\n",
      "210\n",
      "231\n",
      "253\n",
      "276\n",
      "300\n",
      "325\n",
      "351\n",
      "378\n",
      "406\n",
      "435\n",
      "465\n",
      "496\n",
      "528\n",
      "561\n",
      "595\n",
      "630\n",
      "666\n",
      "703\n",
      "741\n",
      "780\n",
      "820\n",
      "861\n",
      "903\n",
      "946\n",
      "990\n",
      "1035\n",
      "1081\n",
      "1128\n",
      "1176\n",
      "1225\n",
      "1275\n",
      "1326\n",
      "1378\n",
      "1431\n",
      "1485\n",
      "1540\n",
      "1596\n",
      "1653\n",
      "1711\n",
      "1770\n",
      "1830\n",
      "1891\n",
      "1953\n",
      "2016\n",
      "2080\n",
      "2145\n",
      "2211\n",
      "2278\n",
      "2346\n",
      "2415\n",
      "2485\n",
      "2556\n",
      "2628\n",
      "2701\n",
      "2775\n",
      "2850\n",
      "2926\n",
      "3003\n",
      "3081\n",
      "3160\n",
      "3240\n",
      "3321\n",
      "3403\n",
      "3486\n",
      "3570\n",
      "3655\n",
      "3741\n",
      "3828\n",
      "3916\n",
      "4005\n",
      "4095\n",
      "4186\n",
      "4278\n",
      "4371\n",
      "4465\n",
      "4560\n",
      "4656\n",
      "4753\n",
      "4851\n",
      "4950\n",
      "5050\n"
     ]
    }
   ],
   "source": [
    "numeros = [1, 2, 3, 4, 5, 6, 7, 8, 9, 10, 11, 12, 13, 14, 15, 16, 17, 18, 19, 20, 21, 22, 23, 24, 25, 26, 27, 28, 29, 30, 31, 32, 33, 34, 35, 36, 37, 38, 39, 40, 41, 42, 43, 44, 45, 46, 47, 48, 49, 50, 51, 52, 53, 54, 55, 56, 57, 58, 59, 60, 61, 62, 63, 64, 65, 66, 67, 68, 69, 70, 71, 72, 73, 74, 75, 76, 77, 78, 79, 80, 81, 82, 83, 84, 85, 86, 87, 88, 89, 90, 91, 92, 93, 94, 95, 96, 97, 98, 99, 100]\n",
    "sumar = 0\n",
    "i = 0\n",
    "\n",
    "while i < len(numeros):\n",
    "    sumar += numeros[i]\n",
    "    i += 1\n",
    "    print(sumar)"
   ]
  },
  {
   "cell_type": "markdown",
   "id": "2c218960",
   "metadata": {},
   "source": [
    "# 4 musetre los numeros pares de 2 al 20\n"
   ]
  },
  {
   "cell_type": "code",
   "execution_count": 64,
   "id": "90c6e9f8",
   "metadata": {},
   "outputs": [
    {
     "name": "stdout",
     "output_type": "stream",
     "text": [
      "2\n",
      "4\n",
      "6\n",
      "8\n",
      "10\n",
      "12\n",
      "14\n",
      "16\n",
      "18\n",
      "20\n"
     ]
    }
   ],
   "source": [
    "numero = 1\n",
    "\n",
    "while numero <= 20:\n",
    "    if numero % 2 == 0:\n",
    "        print(numero)\n",
    "    numero += 1"
   ]
  },
  {
   "cell_type": "markdown",
   "id": "41f824e3",
   "metadata": {},
   "source": [
    "# for"
   ]
  },
  {
   "cell_type": "markdown",
   "id": "6dd79f63",
   "metadata": {},
   "source": [
    "## 1 imprime los numero del 1 al 10 usando for"
   ]
  },
  {
   "cell_type": "code",
   "execution_count": 65,
   "id": "cb9f6e00",
   "metadata": {},
   "outputs": [
    {
     "name": "stdout",
     "output_type": "stream",
     "text": [
      "1\n",
      "2\n",
      "3\n",
      "4\n",
      "5\n",
      "6\n",
      "7\n",
      "8\n",
      "9\n",
      "10\n"
     ]
    }
   ],
   "source": [
    "for numeros in range(1, 11):\n",
    "    print(numeros)"
   ]
  },
  {
   "cell_type": "markdown",
   "id": "43033fb6",
   "metadata": {},
   "source": [
    "## 3 dada una lista de numeros muestra los que sean multiplos de 3"
   ]
  },
  {
   "cell_type": "code",
   "execution_count": 73,
   "id": "6bf4d6f6",
   "metadata": {},
   "outputs": [
    {
     "name": "stdout",
     "output_type": "stream",
     "text": [
      "los multiplos de 3 son:\n",
      "3\n",
      "6\n",
      "9\n",
      "12\n",
      "15\n",
      "18\n",
      "21\n",
      "24\n",
      "27\n",
      "30\n",
      "33\n",
      "36\n",
      "39\n",
      "42\n",
      "45\n",
      "48\n",
      "51\n",
      "54\n",
      "57\n",
      "60\n",
      "63\n",
      "66\n",
      "69\n",
      "72\n",
      "75\n",
      "78\n",
      "81\n",
      "84\n"
     ]
    }
   ],
   "source": [
    "numeros = [1, 2, 3, 4, 5, 6, 7, 8, 9, 10, 11, 12, 13, 14, 15, 16, 17, 18, 19, 20, 21, 22, 23, 24, 25, 26, 27, 28, 29, 30, 31, 32, 33, 34, 35, 36, 37, 38, 39, 40, 41, 42, 43, 44, 45, 46, 47, 48, 49, 50, 51, 52, 53, 54, 55, 56, 57, 58, 59, 60, 61, 62, 63, 64, 65, 66, 67, 68, 69, 70, 71, 72, 73, 74, 75, 76, 77, 78, 79, 80, 81, 82, 83, 84]\n",
    "\n",
    "print(\"los multiplos de 3 son:\")\n",
    "for numero in numeros:\n",
    "  if numero % 3 == 0:\n",
    "    print(numero)\n"
   ]
  },
  {
   "cell_type": "markdown",
   "id": "99a1447e",
   "metadata": {},
   "source": [
    "# funciones"
   ]
  },
  {
   "cell_type": "markdown",
   "id": "7af47799",
   "metadata": {},
   "source": [
    "## 1 escribe una funcion que reciba 2 numeros y retorne su suma"
   ]
  },
  {
   "cell_type": "code",
   "execution_count": 111,
   "id": "79c6ef6a",
   "metadata": {},
   "outputs": [
    {
     "name": "stdout",
     "output_type": "stream",
     "text": [
      "la suma es: 184\n"
     ]
    }
   ],
   "source": [
    "def sumar(a, b):\n",
    "    return a + b\n",
    "\n",
    "resultado = sumar(91,93 )\n",
    "print(\"la suma es:\", resultado)"
   ]
  },
  {
   "cell_type": "markdown",
   "id": "072b172e",
   "metadata": {},
   "source": [
    "## 4 escriba una funcion que resiba una palabra y retorne cuantas vocales tiene\n"
   ]
  },
  {
   "cell_type": "code",
   "execution_count": 97,
   "id": "1bb46207",
   "metadata": {},
   "outputs": [
    {
     "name": "stdout",
     "output_type": "stream",
     "text": [
      "La palabra 'otorrinolaringologo' tiene 9 vocales.\n"
     ]
    }
   ],
   "source": [
    "def numero_de_vocales(palabra):\n",
    "  \n",
    "  vocales = \"aeiouAEIOU\"\n",
    "  contador = 0\n",
    "  for letra in palabra:\n",
    "    if letra in vocales:\n",
    "      contador += 1\n",
    "  return contador\n",
    "\n",
    "palabra = \"otorrinolaringologo\"\n",
    "numero_de_vocales = numero_de_vocales(palabra)\n",
    "print(f\"La palabra '{palabra}' tiene {numero_de_vocales} vocales.\")"
   ]
  },
  {
   "cell_type": "markdown",
   "id": "29c3cd41",
   "metadata": {},
   "source": [
    "# clases"
   ]
  },
  {
   "cell_type": "markdown",
   "id": "43c87ac6",
   "metadata": {},
   "source": [
    "## 1 cree una clase persona con atributo nombere y edad y un metodo para mostrar sus datos"
   ]
  },
  {
   "cell_type": "code",
   "execution_count": 112,
   "id": "7c6e1907",
   "metadata": {},
   "outputs": [
    {
     "name": "stdout",
     "output_type": "stream",
     "text": [
      "eres  david, y tienes 24 años\n"
     ]
    }
   ],
   "source": [
    "class Persona:\n",
    "    def __init__(self, nombre, edad):\n",
    "        self.__nombre = nombre  \n",
    "        self.__edad = edad      \n",
    "\n",
    "    def mostrar_datos(self):\n",
    "        print(f\"eres  {self.__nombre}, y tienes {self.__edad} años\")\n",
    "\n",
    "p1 = Persona(\"david\", 24)\n",
    "p1.mostrar_datos()\n"
   ]
  },
  {
   "cell_type": "markdown",
   "id": "4311c82a",
   "metadata": {},
   "source": [
    "## 3 cree una clase cuenta bancaria con metodo para depositar retirar y mostar saldo"
   ]
  },
  {
   "cell_type": "code",
   "execution_count": 113,
   "id": "07ff73d7",
   "metadata": {},
   "outputs": [
    {
     "name": "stdout",
     "output_type": "stream",
     "text": [
      "Saldo: 4500\n",
      "Saldo final: 2700\n"
     ]
    }
   ],
   "source": [
    "class CuentaBancaria:\n",
    "    def __init__(self, saldo_inicial):\n",
    "        self.__saldo = saldo_inicial  \n",
    "\n",
    "    def depositar(self, monto):\n",
    "        if monto > 0:\n",
    "            self.__saldo += monto\n",
    "\n",
    "    def retirar(self, monto):\n",
    "        if 0 < monto <= self.__saldo:\n",
    "            self.__saldo -= monto\n",
    "\n",
    "    def obtener_saldo(self):\n",
    "        return self.__saldo\n",
    "    \n",
    "cuenta = CuentaBancaria(4500)\n",
    "print(\"Saldo:\", cuenta.obtener_saldo())\n",
    "cuenta.depositar(1200)\n",
    "cuenta.retirar(3000)\n",
    "print(\"Saldo final:\", cuenta.obtener_saldo())"
   ]
  }
 ],
 "metadata": {
  "kernelspec": {
   "display_name": "Python 3",
   "language": "python",
   "name": "python3"
  },
  "language_info": {
   "codemirror_mode": {
    "name": "ipython",
    "version": 3
   },
   "file_extension": ".py",
   "mimetype": "text/x-python",
   "name": "python",
   "nbconvert_exporter": "python",
   "pygments_lexer": "ipython3",
   "version": "3.13.3"
  }
 },
 "nbformat": 4,
 "nbformat_minor": 5
}
