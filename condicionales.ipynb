{
 "cells": [
  {
   "cell_type": "markdown",
   "id": "05139bfd",
   "metadata": {},
   "source": [
    "# condicionales\n"
   ]
  },
  {
   "cell_type": "markdown",
   "id": "48054e4d",
   "metadata": {},
   "source": [
    "#### programa que me pregunta si esta lloviedo o no y desido si sacr sombrilla"
   ]
  },
  {
   "cell_type": "code",
   "execution_count": 12,
   "id": "162600ce",
   "metadata": {},
   "outputs": [
    {
     "name": "stdout",
     "output_type": "stream",
     "text": [
      "no sacar sombrilla\n"
     ]
    }
   ],
   "source": [
    "respuesta=input(\"esta lloviendo?si o no\").lower()\n",
    "\n",
    "if respuesta == \"si:\":\n",
    "    print(\"sacar sombrilla\")\n",
    "elif respuesta == \"no\":\n",
    "    print(\"no sacar sombrilla\")\n",
    "else:\n",
    "    print(\" respuest no valida , coloca si o no\")\n",
    "\n"
   ]
  },
  {
   "cell_type": "markdown",
   "id": "31024705",
   "metadata": {},
   "source": [
    "#### programa que verifique si la pérsona es mayor de edad puede ingrsar al casino, si no no puede ingrsar"
   ]
  },
  {
   "cell_type": "code",
   "execution_count": 10,
   "id": "d9cf5488",
   "metadata": {},
   "outputs": [
    {
     "name": "stdout",
     "output_type": "stream",
     "text": [
      "no puede entar\n"
     ]
    }
   ],
   "source": [
    "respuesta=input(\"ers mayor de edad?si o no\").lower()\n",
    "\n",
    "if respuesta == \"si\":\n",
    "    print(\"puedes entar\")\n",
    "elif respuesta == \"no\":\n",
    "    print(\"no puede entar\")\n"
   ]
  },
  {
   "cell_type": "markdown",
   "id": "c48b1049",
   "metadata": {},
   "source": [
    "#### hacer un proframa como si fuera un login con usuario y contraseña\n",
    "\n",
    "* si el usuario coinside pero la contraseña no, imprima usuario corrrecto opero contraseña incorrecta\n",
    "* si ninguno condide decir usuario y contrseña incorrectos\n",
    "* si los dos condiden decir login exitoso"
   ]
  },
  {
   "cell_type": "code",
   "execution_count": null,
   "id": "1df0c90a",
   "metadata": {},
   "outputs": [
    {
     "name": "stdout",
     "output_type": "stream",
     "text": [
      "usuario inrecto\n",
      "login\n"
     ]
    }
   ],
   "source": [
    "usuario = \"jilber48\"\n",
    "contrasena = \"jilberMX\"\n",
    "\n",
    "pregunta=input(\"ingrsar usuario\")\n",
    "\n",
    "if pregunta == \"jilber48\":\n",
    "    print(\"usuario valido\")\n",
    "else:\n",
    "    print(\"usuario inrecto\")\n",
    "\n",
    "\n",
    "pregunta_2=input(\"ingrse contraseña\")\n",
    "\n",
    "if pregunta_2 == \"jilberMX\":\n",
    "    print(\"contrasena valida\")\n",
    "elif pregunta_2 == \"jilbermx\":\n",
    "    print(\"contrasena invalida\")\n",
    "else:\n",
    "    print(\"login\")\n",
    "\n",
    "\n",
    "\n",
    "\n"
   ]
  },
  {
   "cell_type": "markdown",
   "id": "de19f22b",
   "metadata": {},
   "source": [
    "## desarollar un algoritmo para una empresa de prestamos\n",
    "\n",
    "* la persona es elegida para el prestamo si:\n",
    "* tiene ingresos superiores a 2000 y puntaje crediticio mayor a 700\n",
    "* tiene ingrersos superiores a 5000 y  no importa el puntaje\n",
    "\n",
    "### pedirle al usuario \n",
    "\n",
    "* ingreso mensual \n",
    "* puntaje crediticio\n"
   ]
  },
  {
   "cell_type": "code",
   "execution_count": 32,
   "id": "239ef395",
   "metadata": {},
   "outputs": [
    {
     "name": "stdout",
     "output_type": "stream",
     "text": [
      "prestamo valido\n",
      "prestamo valido\n"
     ]
    }
   ],
   "source": [
    "pregunta_1=int(input(\"ingresaringresomensual\"))\n",
    "\n",
    "if pregunta_1 <=2000:\n",
    "    print(\"prestamo valido\")\n",
    "elif pregunta_1 == \"<=5000\":\n",
    "    print(\"pretamo valido\")\n",
    "\n",
    "\n",
    "pregunta_2=int(input(\"ingrese puntajecredito\"))\n",
    "\n",
    "if pregunta_2 <=700:\n",
    "    print(\"prestamo valido\")\n",
    "elif pregunta_2 == (\"<0\"):\n",
    "    print(\"prestamo aceptado\")"
   ]
  },
  {
   "cell_type": "markdown",
   "id": "741db542",
   "metadata": {},
   "source": [
    "##programa que clasifique un dia segun su dia y la hora del dia"
   ]
  },
  {
   "cell_type": "code",
   "execution_count": 30,
   "id": "b7610185",
   "metadata": {},
   "outputs": [
    {
     "name": "stdout",
     "output_type": "stream",
     "text": [
      "dia normal\n"
     ]
    }
   ],
   "source": [
    "clima=input(\"clima\")\n",
    "hora=int(input(\"hora\"))\n",
    "temperatura=int(input(\"temperatura\"))\n",
    "\n",
    "if clima == \"soleado\" and hora >=9 and hora<=18 : \n",
    "    print(\"dia perfecto\")\n",
    "elif clima == \"lluvioso\" and temperatura >10:\n",
    "    print(\"dia nublado\")\n",
    "else :\n",
    "    print(\"dia normal\")\n"
   ]
  },
  {
   "cell_type": "markdown",
   "id": "3f6259ef",
   "metadata": {},
   "source": [
    "# mayor de edad"
   ]
  },
  {
   "cell_type": "code",
   "execution_count": 6,
   "id": "2dd3e977",
   "metadata": {},
   "outputs": [
    {
     "name": "stdout",
     "output_type": "stream",
     "text": [
      "si eres mayor\n"
     ]
    }
   ],
   "source": [
    "edad=int(input(\"ingresa tu edad\"))\n",
    "\n",
    "if edad >=18:\n",
    "    print(\"si eres mayor\")\n",
    "elif edad <18:\n",
    "    print(\"no eres mayor\")\n"
   ]
  },
  {
   "cell_type": "markdown",
   "id": "159a8da0",
   "metadata": {},
   "source": [
    "# ciclos\n"
   ]
  },
  {
   "cell_type": "code",
   "execution_count": null,
   "id": "a22f60db",
   "metadata": {},
   "outputs": [
    {
     "name": "stdout",
     "output_type": "stream",
     "text": [
      "1,2,3,4,5,6,7,8,9\n"
     ]
    }
   ],
   "source": [
    "numeros = 0\n",
    "while True:\n",
    "    numero+=1\n",
    "    print(numero)\n",
    "    if numero == 10:\n",
    "        "
   ]
  }
 ],
 "metadata": {
  "kernelspec": {
   "display_name": "Python 3",
   "language": "python",
   "name": "python3"
  },
  "language_info": {
   "codemirror_mode": {
    "name": "ipython",
    "version": 3
   },
   "file_extension": ".py",
   "mimetype": "text/x-python",
   "name": "python",
   "nbconvert_exporter": "python",
   "pygments_lexer": "ipython3",
   "version": "3.13.3"
  }
 },
 "nbformat": 4,
 "nbformat_minor": 5
}
