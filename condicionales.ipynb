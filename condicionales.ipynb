{
 "cells": [
  {
   "cell_type": "markdown",
   "id": "05139bfd",
   "metadata": {},
   "source": [
    "# condicionales\n"
   ]
  },
  {
   "cell_type": "markdown",
   "id": "48054e4d",
   "metadata": {},
   "source": [
    "#### programa que me pregunta si esta lloviedo o no y desido si sacr sombrilla"
   ]
  },
  {
   "cell_type": "code",
   "execution_count": null,
   "id": "162600ce",
   "metadata": {},
   "outputs": [
    {
     "name": "stdout",
     "output_type": "stream",
     "text": [
      "no sacar sombrilla\n"
     ]
    }
   ],
   "source": [
    "respuesta=input(\"esta lloviendo?si o no\").lower()\n",
    "\n",
    "if respuesta == \"si:\":\n",
    "    print(\"sacar sombrilla\")\n",
    "elif respuesta == \"no\":\n",
    "    print(\"no sacar sombrilla\")\n",
    "else:\n",
    "    print(\" respuest no valida , coloca si o no\")\n",
    "\n"
   ]
  },
  {
   "cell_type": "markdown",
   "id": "31024705",
   "metadata": {},
   "source": [
    "#### programa que verifique si la pérsona es mayor de edad puede ingrsar al casino, si no no puede ingrsar"
   ]
  },
  {
   "cell_type": "code",
   "execution_count": 10,
   "id": "d9cf5488",
   "metadata": {},
   "outputs": [
    {
     "name": "stdout",
     "output_type": "stream",
     "text": [
      "no puede entar\n"
     ]
    }
   ],
   "source": [
    "respuesta=input(\"ers mayor de edad?si o no\").lower()\n",
    "\n",
    "if respuesta == \"si\":\n",
    "    print(\"puedes entar\")\n",
    "elif respuesta == \"no\":\n",
    "    print(\"no puede entar\")\n"
   ]
  },
  {
   "cell_type": "markdown",
   "id": "c48b1049",
   "metadata": {},
   "source": [
    "#### hacer un proframa como si fuera un login con usuario y contraseña\n",
    "\n",
    "* si el usuario coinside pero la contraseña no, imprima usuario corrrecto opero contraseña incorrecta\n",
    "* si ninguno condide decir usuario y contrseña incorrectos\n",
    "* si los dos condiden decir login exitoso"
   ]
  },
  {
   "cell_type": "code",
   "execution_count": null,
   "id": "1df0c90a",
   "metadata": {},
   "outputs": [
    {
     "name": "stdout",
     "output_type": "stream",
     "text": [
      "usuario inrecto\n",
      "login\n"
     ]
    }
   ],
   "source": [
    "usuario = \"jilber48\"\n",
    "contrasena = \"jilberMX\"\n",
    "\n",
    "pregunta=input(\"ingrsar usuario\")\n",
    "\n",
    "if pregunta == \"jilber48\":\n",
    "    print(\"usuario valido\")\n",
    "else:\n",
    "    print(\"usuario inrecto\")\n",
    "\n",
    "\n",
    "pregunta_2=input(\"ingrse contraseña\")\n",
    "\n",
    "if pregunta_2 == \"jilberMX\":\n",
    "    print(\"contrasena valida\")\n",
    "elif pregunta_2 == \"jilbermx\":\n",
    "    print(\"contrasena invalida\")\n",
    "else:\n",
    "    print(\"login\")\n",
    "\n",
    "\n",
    "\n",
    "\n"
   ]
  }
 ],
 "metadata": {
  "kernelspec": {
   "display_name": "Python 3",
   "language": "python",
   "name": "python3"
  },
  "language_info": {
   "codemirror_mode": {
    "name": "ipython",
    "version": 3
   },
   "file_extension": ".py",
   "mimetype": "text/x-python",
   "name": "python",
   "nbconvert_exporter": "python",
   "pygments_lexer": "ipython3",
   "version": "3.13.3"
  }
 },
 "nbformat": 4,
 "nbformat_minor": 5
}
