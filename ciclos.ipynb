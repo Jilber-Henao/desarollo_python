{
 "cells": [
  {
   "cell_type": "markdown",
   "id": "e6f18760",
   "metadata": {},
   "source": [
    "# ciclos"
   ]
  },
  {
   "cell_type": "code",
   "execution_count": 1,
   "id": "a44d86af",
   "metadata": {},
   "outputs": [
    {
     "name": "stdout",
     "output_type": "stream",
     "text": [
      "1\n",
      "2\n",
      "3\n",
      "4\n",
      "5\n",
      "6\n",
      "7\n",
      "8\n",
      "9\n",
      "10\n"
     ]
    }
   ],
   "source": [
    "numero = 0\n",
    "while True:\n",
    "    numero +=1\n",
    "    print(numero)\n",
    "    if numero == 10:\n",
    "        break"
   ]
  },
  {
   "cell_type": "markdown",
   "id": "330737fe",
   "metadata": {},
   "source": [
    "## estructura del bucle `while` en python "
   ]
  },
  {
   "cell_type": "code",
   "execution_count": 18,
   "id": "c96cc328",
   "metadata": {},
   "outputs": [
    {
     "name": "stdout",
     "output_type": "stream",
     "text": [
      "5\n",
      "3\n",
      "1\n"
     ]
    }
   ],
   "source": [
    "# sintasix basica\n",
    "\n",
    "contador = 5\n",
    "while contador > 0:\n",
    "    print(contador)\n",
    "    contador -= 2"
   ]
  },
  {
   "cell_type": "markdown",
   "id": "7987d35a",
   "metadata": {},
   "source": [
    "## precaucion bucles infinitos"
   ]
  },
  {
   "cell_type": "markdown",
   "id": "18f30363",
   "metadata": {},
   "source": [
    "##### si la condicion nunca se vuelve falsa ; el bucle sera infinito. Siempre asegurate de modificar la condicion dentro del bucle"
   ]
  },
  {
   "cell_type": "code",
   "execution_count": null,
   "id": "22ccd7a9",
   "metadata": {},
   "outputs": [],
   "source": [
    "# ¡no ejecutes esto! es un ejemplo de bucle infinito \n",
    "# while true:\n",
    "#   print(´esto nunca termina´)"
   ]
  },
  {
   "cell_type": "markdown",
   "id": "2333a5af",
   "metadata": {},
   "source": [
    "# ejercicio 1: sumar elemtos de una lista"
   ]
  },
  {
   "cell_type": "code",
   "execution_count": 35,
   "id": "d026e5c7",
   "metadata": {},
   "outputs": [
    {
     "name": "stdout",
     "output_type": "stream",
     "text": [
      "1\n",
      "3\n",
      "6\n",
      "10\n",
      "15\n"
     ]
    }
   ],
   "source": [
    "numeros = [1,2,3,4,5]\n",
    "sumar = 0\n",
    "i = 0\n",
    "\n",
    "while i < len(numeros):\n",
    "    sumar += numeros[i]\n",
    "    i += 1\n",
    "    print(sumar)"
   ]
  },
  {
   "cell_type": "markdown",
   "id": "479de5dd",
   "metadata": {},
   "source": [
    "# ejercicio 2: inprime pares del 1 al 10"
   ]
  },
  {
   "cell_type": "code",
   "execution_count": 69,
   "id": "68c81895",
   "metadata": {},
   "outputs": [
    {
     "name": "stdout",
     "output_type": "stream",
     "text": [
      "2\n",
      "4\n",
      "6\n",
      "8\n",
      "10\n"
     ]
    }
   ],
   "source": [
    "numero = 1\n",
    "\n",
    "while numero <= 10:\n",
    "    if numero % 2 == 0:\n",
    "        print(numero)\n",
    "    numero += 1"
   ]
  },
  {
   "cell_type": "markdown",
   "id": "0a8035ff",
   "metadata": {},
   "source": [
    "# ejercicio 3: contar vocales en un palabra"
   ]
  },
  {
   "cell_type": "code",
   "execution_count": null,
   "id": "67aa06ff",
   "metadata": {},
   "outputs": [
    {
     "name": "stdout",
     "output_type": "stream",
     "text": [
      "cantidad de vocales: 9\n"
     ]
    }
   ],
   "source": [
    "palabra = \"\"\n",
    "contador = 0\n",
    "i = 0\n",
    "while i < len(palabra):\n",
    "    if palabra [i] in \"aeiou\":\n",
    "        contador += 1\n",
    "    i += 1\n",
    "print(\"cantidad de vocales:\",contador)"
   ]
  }
 ],
 "metadata": {
  "kernelspec": {
   "display_name": "Python 3",
   "language": "python",
   "name": "python3"
  },
  "language_info": {
   "codemirror_mode": {
    "name": "ipython",
    "version": 3
   },
   "file_extension": ".py",
   "mimetype": "text/x-python",
   "name": "python",
   "nbconvert_exporter": "python",
   "pygments_lexer": "ipython3",
   "version": "3.13.3"
  }
 },
 "nbformat": 4,
 "nbformat_minor": 5
}
